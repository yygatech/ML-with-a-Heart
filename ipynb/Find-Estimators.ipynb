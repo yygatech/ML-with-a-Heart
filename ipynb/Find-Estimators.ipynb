{
 "cells": [
  {
   "cell_type": "code",
   "execution_count": null,
   "metadata": {},
   "outputs": [],
   "source": [
    "# UTILITY\n",
    "\n",
    "# find out which estimators support .predict_proba()\n",
    "from sklearn.utils.testing import all_estimators\n",
    "estimators = all_estimators()\n",
    "\n",
    "res_list = []\n",
    "for name, class_ in estimators:\n",
    "    if hasattr(class_, 'predict_proba'):\n",
    "        res_list.append(name)\n",
    "\n",
    "# print result\n",
    "print(\"List of estimators having attribute 'predict_proba':\")\n",
    "for item in res_list:\n",
    "    print(item)"
   ]
  }
 ],
 "metadata": {
  "kernelspec": {
   "display_name": "Python 3",
   "language": "python",
   "name": "python3"
  },
  "language_info": {
   "codemirror_mode": {
    "name": "ipython",
    "version": 3
   },
   "file_extension": ".py",
   "mimetype": "text/x-python",
   "name": "python",
   "nbconvert_exporter": "python",
   "pygments_lexer": "ipython3",
   "version": "3.6.2"
  }
 },
 "nbformat": 4,
 "nbformat_minor": 2
}
